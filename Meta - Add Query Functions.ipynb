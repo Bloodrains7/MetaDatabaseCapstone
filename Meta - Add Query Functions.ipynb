{
 "cells": [
  {
   "cell_type": "code",
   "execution_count": null,
   "id": "24db47c0",
   "metadata": {},
   "outputs": [],
   "source": [
    "!pip install mysql-connector-python"
   ]
  },
  {
   "cell_type": "code",
   "execution_count": null,
   "id": "7323df09",
   "metadata": {},
   "outputs": [],
   "source": [
    "#Task 1\n",
    "\n",
    "import mysql.connector as connector\n",
    "\n",
    "connection = connector.connect(user = \"root\", password = \"admin\", db = \"LittleLemonDB\")\n",
    "cursor = connection.cursor()"
   ]
  },
  {
   "cell_type": "code",
   "execution_count": null,
   "id": "fc0c3c1c",
   "metadata": {},
   "outputs": [],
   "source": [
    "# TASK 2\n",
    "show_tables_query = \"SHOW TABLES\"\n",
    "cursor.execute(show_tables_query)\n",
    "\n",
    "results = cursor.fetchall()\n",
    "\n",
    "print(results)"
   ]
  },
  {
   "cell_type": "code",
   "execution_count": null,
   "id": "5834dff7",
   "metadata": {},
   "outputs": [],
   "source": [
    "# Task 3\n",
    "# SQL query to join tables and filter results\n",
    "query = \"\"\"\n",
    "SELECT \n",
    "    c.fullName, \n",
    "    c.email,\n",
    "    CONCAT(p.dialCode + \" \" + p.number)\n",
    "    o.totalCost\n",
    "FROM \n",
    "    Customer c\n",
    "JOIN \n",
    "    Order o ON c.id = o.customerId\n",
    "JOIN\n",
    "    PhoneNumber p on p.id = u.phoneNumberId\n",
    "WHERE \n",
    "    o.totalCost > 60\n",
    "\"\"\"\n",
    "\n",
    "# Execute the query\n",
    "cursor.execute(query)\n",
    "\n",
    "# Fetch all results\n",
    "results = cursor.fetchall()\n",
    "\n",
    "# Print the results\n",
    "for result in results:\n",
    "    print(result)"
   ]
  },
  {
   "cell_type": "code",
   "execution_count": null,
   "id": "76d0e957",
   "metadata": {},
   "outputs": [],
   "source": []
  }
 ],
 "metadata": {
  "kernelspec": {
   "display_name": "Python 3 (ipykernel)",
   "language": "python",
   "name": "python3"
  },
  "language_info": {
   "codemirror_mode": {
    "name": "ipython",
    "version": 3
   },
   "file_extension": ".py",
   "mimetype": "text/x-python",
   "name": "python",
   "nbconvert_exporter": "python",
   "pygments_lexer": "ipython3",
   "version": "3.11.5"
  }
 },
 "nbformat": 4,
 "nbformat_minor": 5
}
